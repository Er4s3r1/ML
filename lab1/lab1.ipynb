{
  "metadata": {
    "kernelspec": {
      "name": "python",
      "display_name": "Python (Pyodide)",
      "language": "python"
    },
    "language_info": {
      "codemirror_mode": {
        "name": "python",
        "version": 3
      },
      "file_extension": ".py",
      "mimetype": "text/x-python",
      "name": "python",
      "nbconvert_exporter": "python",
      "pygments_lexer": "ipython3",
      "version": "3.8"
    },
    "colab": {
      "provenance": []
    }
  },
  "nbformat_minor": 4,
  "nbformat": 4,
  "cells": [
    {
      "cell_type": "markdown",
      "source": "# **Лабораторная работа №1**\n\n## **Выполнил:**\n\nПотехин Фёдор М8О-309Б-22",
      "metadata": {
        "id": "sErcjeV2zU5I"
      }
    },
    {
      "cell_type": "markdown",
      "source": "# 1. Numpy\n\nНеобходимо использовать функции и методы библиотеки numpy. Использовать циклы, генераторы списков **запрещено**.",
      "metadata": {
        "id": "cXTzO5HV18Yr"
      }
    },
    {
      "cell_type": "code",
      "source": "import numpy as np",
      "metadata": {},
      "outputs": [],
      "execution_count": 224
    },
    {
      "cell_type": "markdown",
      "source": "1. Создайте матрицу $3 × 3 $ со значениями от 0 до 8.",
      "metadata": {
        "id": "AmUMh0xo32nb"
      }
    },
    {
      "cell_type": "code",
      "source": "np.arange(9).reshape(3, 3)",
      "metadata": {
        "id": "34WhZifT13Jn"
      },
      "outputs": [
        {
          "data": {
            "text/plain": [
              "array([[0, 1, 2],\n",
              "       [3, 4, 5],\n",
              "       [6, 7, 8]])"
            ]
          },
          "execution_count": 4,
          "metadata": {},
          "output_type": "execute_result"
        }
      ],
      "execution_count": 4
    },
    {
      "cell_type": "markdown",
      "source": "2. Создайте матрицу шахматной доски  $8 × 8 $, заполненную 'B' и 'W', используя функцию tile.",
      "metadata": {
        "id": "1jSpAGnP12Vn"
      }
    },
    {
      "cell_type": "code",
      "source": "np.tile(np.array([['B', 'W'], ['B', 'W']]), (4, 4))",
      "metadata": {
        "id": "OKjYdYlB32JN"
      },
      "outputs": [
        {
          "data": {
            "text/plain": [
              "array([['B', 'W', 'B', 'W', 'B', 'W', 'B', 'W'],\n",
              "       ['B', 'W', 'B', 'W', 'B', 'W', 'B', 'W'],\n",
              "       ['B', 'W', 'B', 'W', 'B', 'W', 'B', 'W'],\n",
              "       ['B', 'W', 'B', 'W', 'B', 'W', 'B', 'W'],\n",
              "       ['B', 'W', 'B', 'W', 'B', 'W', 'B', 'W'],\n",
              "       ['B', 'W', 'B', 'W', 'B', 'W', 'B', 'W'],\n",
              "       ['B', 'W', 'B', 'W', 'B', 'W', 'B', 'W'],\n",
              "       ['B', 'W', 'B', 'W', 'B', 'W', 'B', 'W']], dtype='<U1')"
            ]
          },
          "execution_count": 8,
          "metadata": {},
          "output_type": "execute_result"
        }
      ],
      "execution_count": 8
    },
    {
      "cell_type": "markdown",
      "source": "3. Найти индексы ненулевых элементов в произвольном массиве, например: $ [1,2,0,0,4,0,0,4,6,4,0] $\n",
      "metadata": {
        "id": "_k7LOsPh4Feo"
      }
    },
    {
      "cell_type": "code",
      "source": "np.nonzero(np.array([1, 2, 0, 0, 4, 0, 0, 4, 6, 4, 0]))",
      "metadata": {
        "id": "BUJdZFGn4P3k"
      },
      "outputs": [
        {
          "data": {
            "text/plain": [
              "(array([0, 1, 4, 7, 8, 9]),)"
            ]
          },
          "execution_count": 9,
          "metadata": {},
          "output_type": "execute_result"
        }
      ],
      "execution_count": 9
    },
    {
      "cell_type": "markdown",
      "source": "4. Создайте двумерный массив с единицами на границах и нулями внутри, например:\n\n$ 1 1 1 1 1 $\n\n$ 1 0 0 0 1 $\n\n$ 1 0 0 0 1 $\n\n$ 1 1 1 1 1 $\n",
      "metadata": {
        "id": "ZJWS2wO-3xfn"
      }
    },
    {
      "cell_type": "code",
      "source": "inner_matrix = np.zeros((2, 3))\n\nnp.pad(inner_matrix, pad_width=1, mode='constant', constant_values=1)",
      "metadata": {
        "id": "dGfAw9ii5fhJ"
      },
      "outputs": [
        {
          "data": {
            "text/plain": [
              "array([[1., 1., 1., 1., 1.],\n",
              "       [1., 0., 0., 0., 1.],\n",
              "       [1., 0., 0., 0., 1.],\n",
              "       [1., 1., 1., 1., 1.]])"
            ]
          },
          "execution_count": 12,
          "metadata": {},
          "output_type": "execute_result"
        }
      ],
      "execution_count": 12
    },
    {
      "cell_type": "markdown",
      "source": "5. Создайте случайный вектор размером 15 и замените максимальное значение на $NaN$.\n",
      "metadata": {
        "id": "L8m6wERB4m7_"
      }
    },
    {
      "cell_type": "code",
      "source": "random_vector = np.random.rand(15)\nmax_index = np.argmax(random_vector)\nrandom_vector[max_index] = np.nan\nrandom_vector",
      "metadata": {
        "id": "-orpyoP14mKS"
      },
      "outputs": [
        {
          "data": {
            "text/plain": [
              "array([0.8077784 , 0.16862798, 0.67801361,        nan, 0.17614062,\n",
              "       0.71492135, 0.9728372 , 0.73088865, 0.16810141, 0.16830113,\n",
              "       0.8449866 , 0.00461257, 0.76062252, 0.40631479, 0.76103902])"
            ]
          },
          "execution_count": 17,
          "metadata": {},
          "output_type": "execute_result"
        }
      ],
      "execution_count": 17
    },
    {
      "cell_type": "markdown",
      "source": "6. Рассмотрим массив размерности $(6, 7, 8)$. Каков индекс $(i,j,k)$ 100-го элемента?",
      "metadata": {
        "id": "V5SVMkLv4QOl"
      }
    },
    {
      "cell_type": "code",
      "source": "np.unravel_index(100, (6, 7, 8))",
      "metadata": {
        "id": "Io3LqADB4oNd"
      },
      "outputs": [
        {
          "data": {
            "text/plain": [
              "(1, 5, 4)"
            ]
          },
          "execution_count": 19,
          "metadata": {},
          "output_type": "execute_result"
        }
      ],
      "execution_count": 19
    },
    {
      "cell_type": "markdown",
      "source": "7. Рассмотрим случайную матрицу  $15 × 2 $, представляющую декартовы координаты, преобразуйте их в полярные координаты.",
      "metadata": {
        "id": "vTEGupeC4bmb"
      }
    },
    {
      "cell_type": "code",
      "source": "dec_matrix = np.random.rand(15, 2)\nx, y = dec_matrix[:, 0], dec_matrix[:, 1]\nr = np.sqrt(x**2 + y**2)\ntheta = np.arctan2(y, x)\n\nnp.column_stack((r, theta))",
      "metadata": {
        "id": "wJggfH9L4nZ_"
      },
      "outputs": [
        {
          "data": {
            "text/plain": [
              "array([[0.31522404, 1.16258636],\n",
              "       [0.8793434 , 0.31731798],\n",
              "       [0.61398777, 0.15887773],\n",
              "       [0.66722712, 0.04798449],\n",
              "       [0.96305982, 1.4982174 ],\n",
              "       [1.12465822, 1.01275438],\n",
              "       [0.29857827, 0.53623078],\n",
              "       [0.64296752, 1.27237163],\n",
              "       [1.06085345, 1.16701393],\n",
              "       [0.81230546, 0.17167617],\n",
              "       [0.43280614, 0.97773104],\n",
              "       [1.02879166, 1.13273937],\n",
              "       [0.66983684, 0.60858419],\n",
              "       [0.73283925, 1.49708945],\n",
              "       [0.76252917, 1.18236301]])"
            ]
          },
          "execution_count": 225,
          "metadata": {},
          "output_type": "execute_result"
        }
      ],
      "execution_count": 225
    },
    {
      "cell_type": "markdown",
      "source": "8. По двум массивам $x$ и $y$ постройте матрицу Коши $C$\n $(C_{ij} =\\frac{1}{x_i - y_j})$",
      "metadata": {
        "id": "Y6QOvFAE5Rdo"
      }
    },
    {
      "cell_type": "code",
      "source": "x = np.random.rand(2)\ny = np.random.rand(2)\n\nx = x.reshape((-1, 1))\ndiff_matrix = x-y\n\nCauchy_matrix = 1.0 / (diff_matrix)\nCauchy_matrix",
      "metadata": {
        "id": "VrMhqaTg5Rvv"
      },
      "outputs": [
        {
          "data": {
            "text/plain": [
              "array([[ -2.61543278,  -7.279034  ],\n",
              "       [-23.48756667,   4.94097228]])"
            ]
          },
          "execution_count": 36,
          "metadata": {},
          "output_type": "execute_result"
        }
      ],
      "execution_count": 36
    },
    {
      "cell_type": "markdown",
      "source": "9. Рассмотрим матрицу $10 × 3 $, извлеките строки с неравными значениями (например, $[2,2,3]$).",
      "metadata": {
        "id": "clAXzbii4wA3"
      }
    },
    {
      "cell_type": "code",
      "source": "matrix = np.random.randint(0, 4, (10, 3))\nprint(matrix)\n\nunequal_rows = matrix[np.any(matrix != matrix[:, [0]], axis=1)]\nunequal_rows",
      "metadata": {
        "id": "97jD43Gl4wbx"
      },
      "outputs": [
        {
          "name": "stdout",
          "output_type": "stream",
          "text": [
            "[[1 0 0]\n",
            " [1 0 2]\n",
            " [3 3 3]\n",
            " [2 1 0]\n",
            " [3 2 3]\n",
            " [1 1 1]\n",
            " [0 2 2]\n",
            " [1 1 1]\n",
            " [1 0 1]\n",
            " [3 3 3]]\n"
          ]
        },
        {
          "data": {
            "text/plain": [
              "array([[1, 0, 0],\n",
              "       [1, 0, 2],\n",
              "       [2, 1, 0],\n",
              "       [3, 2, 3],\n",
              "       [0, 2, 2],\n",
              "       [1, 0, 1]])"
            ]
          },
          "execution_count": 41,
          "metadata": {},
          "output_type": "execute_result"
        }
      ],
      "execution_count": 41
    },
    {
      "cell_type": "markdown",
      "source": "10. Извлеките уникальные строки из двумерного массива.\n",
      "metadata": {
        "id": "3dVmnyBLxuUP"
      }
    },
    {
      "cell_type": "code",
      "source": "matrix = np.random.randint(0, 4, (10, 3))\nprint(matrix)\nnp.unique(matrix, axis=0)",
      "metadata": {
        "id": "yWdTK_orxtx0"
      },
      "outputs": [
        {
          "name": "stdout",
          "output_type": "stream",
          "text": [
            "[[0 0 0]\n",
            " [2 0 2]\n",
            " [1 3 0]\n",
            " [3 2 1]\n",
            " [2 0 2]\n",
            " [2 0 2]\n",
            " [0 2 1]\n",
            " [1 3 0]\n",
            " [3 3 3]\n",
            " [0 3 3]]\n"
          ]
        },
        {
          "data": {
            "text/plain": [
              "array([[0, 0, 0],\n",
              "       [0, 2, 1],\n",
              "       [0, 3, 3],\n",
              "       [1, 3, 0],\n",
              "       [2, 0, 2],\n",
              "       [3, 2, 1],\n",
              "       [3, 3, 3]])"
            ]
          },
          "execution_count": 44,
          "metadata": {},
          "output_type": "execute_result"
        }
      ],
      "execution_count": 44
    },
    {
      "cell_type": "markdown",
      "source": "# 2. Pandas\n\n# Найдите ответы на вопросы с помощью предложенного датасета:",
      "metadata": {
        "id": "ehaTVnKIyufu"
      }
    },
    {
      "cell_type": "markdown",
      "source": "Файл с датасетом - `olympics_dataset.csv`",
      "metadata": {
        "id": "h7NfRLCpFec1"
      }
    },
    {
      "cell_type": "code",
      "source": "import pandas as pd",
      "metadata": {},
      "outputs": [],
      "execution_count": 2
    },
    {
      "cell_type": "code",
      "source": "df = pd.read_csv('data/olympics_dataset.csv')\ndf.head()",
      "metadata": {},
      "outputs": [
        {
          "data": {
            "text/html": [
              "<div>\n",
              "<style scoped>\n",
              "    .dataframe tbody tr th:only-of-type {\n",
              "        vertical-align: middle;\n",
              "    }\n",
              "\n",
              "    .dataframe tbody tr th {\n",
              "        vertical-align: top;\n",
              "    }\n",
              "\n",
              "    .dataframe thead th {\n",
              "        text-align: right;\n",
              "    }\n",
              "</style>\n",
              "<table border=\"1\" class=\"dataframe\">\n",
              "  <thead>\n",
              "    <tr style=\"text-align: right;\">\n",
              "      <th></th>\n",
              "      <th>player_id</th>\n",
              "      <th>Name</th>\n",
              "      <th>Sex</th>\n",
              "      <th>Team</th>\n",
              "      <th>NOC</th>\n",
              "      <th>Year</th>\n",
              "      <th>Season</th>\n",
              "      <th>City</th>\n",
              "      <th>Sport</th>\n",
              "      <th>Event</th>\n",
              "      <th>Medal</th>\n",
              "    </tr>\n",
              "  </thead>\n",
              "  <tbody>\n",
              "    <tr>\n",
              "      <th>0</th>\n",
              "      <td>0</td>\n",
              "      <td>A Dijiang</td>\n",
              "      <td>M</td>\n",
              "      <td>China</td>\n",
              "      <td>CHN</td>\n",
              "      <td>1992</td>\n",
              "      <td>Summer</td>\n",
              "      <td>Barcelona</td>\n",
              "      <td>Basketball</td>\n",
              "      <td>Basketball Men's Basketball</td>\n",
              "      <td>No medal</td>\n",
              "    </tr>\n",
              "    <tr>\n",
              "      <th>1</th>\n",
              "      <td>1</td>\n",
              "      <td>A Lamusi</td>\n",
              "      <td>M</td>\n",
              "      <td>China</td>\n",
              "      <td>CHN</td>\n",
              "      <td>2012</td>\n",
              "      <td>Summer</td>\n",
              "      <td>London</td>\n",
              "      <td>Judo</td>\n",
              "      <td>Judo Men's Extra-Lightweight</td>\n",
              "      <td>No medal</td>\n",
              "    </tr>\n",
              "    <tr>\n",
              "      <th>2</th>\n",
              "      <td>2</td>\n",
              "      <td>Gunnar Aaby</td>\n",
              "      <td>M</td>\n",
              "      <td>Denmark</td>\n",
              "      <td>DEN</td>\n",
              "      <td>1920</td>\n",
              "      <td>Summer</td>\n",
              "      <td>Antwerpen</td>\n",
              "      <td>Football</td>\n",
              "      <td>Football Men's Football</td>\n",
              "      <td>No medal</td>\n",
              "    </tr>\n",
              "    <tr>\n",
              "      <th>3</th>\n",
              "      <td>3</td>\n",
              "      <td>Edgar Aabye</td>\n",
              "      <td>M</td>\n",
              "      <td>Denmark/Sweden</td>\n",
              "      <td>DEN</td>\n",
              "      <td>1900</td>\n",
              "      <td>Summer</td>\n",
              "      <td>Paris</td>\n",
              "      <td>Tug-Of-War</td>\n",
              "      <td>Tug-Of-War Men's Tug-Of-War</td>\n",
              "      <td>Gold</td>\n",
              "    </tr>\n",
              "    <tr>\n",
              "      <th>4</th>\n",
              "      <td>26</td>\n",
              "      <td>Cornelia (-strannood)</td>\n",
              "      <td>F</td>\n",
              "      <td>Netherlands</td>\n",
              "      <td>NED</td>\n",
              "      <td>1932</td>\n",
              "      <td>Summer</td>\n",
              "      <td>Los Angeles</td>\n",
              "      <td>Athletics</td>\n",
              "      <td>Athletics Women's 100 metres</td>\n",
              "      <td>No medal</td>\n",
              "    </tr>\n",
              "  </tbody>\n",
              "</table>\n",
              "</div>"
            ],
            "text/plain": [
              "   player_id                   Name Sex            Team  NOC  Year  Season  \\\n",
              "0          0              A Dijiang   M           China  CHN  1992  Summer   \n",
              "1          1               A Lamusi   M           China  CHN  2012  Summer   \n",
              "2          2            Gunnar Aaby   M         Denmark  DEN  1920  Summer   \n",
              "3          3            Edgar Aabye   M  Denmark/Sweden  DEN  1900  Summer   \n",
              "4         26  Cornelia (-strannood)   F     Netherlands  NED  1932  Summer   \n",
              "\n",
              "          City       Sport                         Event     Medal  \n",
              "0    Barcelona  Basketball   Basketball Men's Basketball  No medal  \n",
              "1       London        Judo  Judo Men's Extra-Lightweight  No medal  \n",
              "2    Antwerpen    Football       Football Men's Football  No medal  \n",
              "3        Paris  Tug-Of-War   Tug-Of-War Men's Tug-Of-War      Gold  \n",
              "4  Los Angeles   Athletics  Athletics Women's 100 metres  No medal  "
            ]
          },
          "execution_count": 50,
          "metadata": {},
          "output_type": "execute_result"
        }
      ],
      "execution_count": 50
    },
    {
      "cell_type": "markdown",
      "source": "1. Сколько спортсменов участвовали в Летних Олимпийских играх за всё время?",
      "metadata": {
        "id": "fuOEjaSBzJMn"
      }
    },
    {
      "cell_type": "code",
      "source": "# если у каждого спортсмена уникальный id, то\ndf[\"player_id\"].nunique()",
      "metadata": {},
      "outputs": [
        {
          "data": {
            "text/plain": [
              "235903"
            ]
          },
          "execution_count": 40,
          "metadata": {},
          "output_type": "execute_result"
        }
      ],
      "execution_count": 40
    },
    {
      "cell_type": "markdown",
      "source": "2. Найдите участника с наибольшим количеством медалей",
      "metadata": {
        "id": "NgqBXyjAzdC1"
      }
    },
    {
      "cell_type": "code",
      "source": "df['Medal'].value_counts()",
      "metadata": {},
      "outputs": [
        {
          "data": {
            "text/plain": [
              "Medal\n",
              "No medal    213747\n",
              "Bronze       13070\n",
              "Gold         13002\n",
              "Silver       12746\n",
              "Name: count, dtype: int64"
            ]
          },
          "execution_count": 54,
          "metadata": {},
          "output_type": "execute_result"
        }
      ],
      "execution_count": 54
    },
    {
      "cell_type": "code",
      "source": "medal_winners = df[df['Medal'].isin(['Gold', 'Silver', 'Bronze'])]\n\nmedal_counts = medal_winners.groupby('player_id')['Medal'].count()\nmedal_counts.idxmax(), medal_counts.max()",
      "metadata": {
        "id": "_BgXSSrAzgJr"
      },
      "outputs": [
        {
          "data": {
            "text/plain": [
              "(1945125, 6)"
            ]
          },
          "execution_count": 55,
          "metadata": {},
          "output_type": "execute_result"
        }
      ],
      "execution_count": 55
    },
    {
      "cell_type": "code",
      "source": "df[df[\"player_id\"] == 1945125]",
      "metadata": {},
      "outputs": [
        {
          "data": {
            "text/html": [
              "<div>\n",
              "<style scoped>\n",
              "    .dataframe tbody tr th:only-of-type {\n",
              "        vertical-align: middle;\n",
              "    }\n",
              "\n",
              "    .dataframe tbody tr th {\n",
              "        vertical-align: top;\n",
              "    }\n",
              "\n",
              "    .dataframe thead th {\n",
              "        text-align: right;\n",
              "    }\n",
              "</style>\n",
              "<table border=\"1\" class=\"dataframe\">\n",
              "  <thead>\n",
              "    <tr style=\"text-align: right;\">\n",
              "      <th></th>\n",
              "      <th>player_id</th>\n",
              "      <th>Name</th>\n",
              "      <th>Sex</th>\n",
              "      <th>Team</th>\n",
              "      <th>NOC</th>\n",
              "      <th>Year</th>\n",
              "      <th>Season</th>\n",
              "      <th>City</th>\n",
              "      <th>Sport</th>\n",
              "      <th>Event</th>\n",
              "      <th>Medal</th>\n",
              "    </tr>\n",
              "  </thead>\n",
              "  <tbody>\n",
              "    <tr>\n",
              "      <th>248118</th>\n",
              "      <td>1945125</td>\n",
              "      <td>Yufei Zhang</td>\n",
              "      <td>F</td>\n",
              "      <td>China</td>\n",
              "      <td>CHN</td>\n",
              "      <td>2024</td>\n",
              "      <td>Summer</td>\n",
              "      <td>Paris</td>\n",
              "      <td>Swimming</td>\n",
              "      <td>Women's 100m Butterfly</td>\n",
              "      <td>Bronze</td>\n",
              "    </tr>\n",
              "    <tr>\n",
              "      <th>248119</th>\n",
              "      <td>1945125</td>\n",
              "      <td>Yufei Zhang</td>\n",
              "      <td>F</td>\n",
              "      <td>China</td>\n",
              "      <td>CHN</td>\n",
              "      <td>2024</td>\n",
              "      <td>Summer</td>\n",
              "      <td>Paris</td>\n",
              "      <td>Swimming</td>\n",
              "      <td>Women's 200m Butterfly</td>\n",
              "      <td>Bronze</td>\n",
              "    </tr>\n",
              "    <tr>\n",
              "      <th>248120</th>\n",
              "      <td>1945125</td>\n",
              "      <td>Yufei Zhang</td>\n",
              "      <td>F</td>\n",
              "      <td>China</td>\n",
              "      <td>CHN</td>\n",
              "      <td>2024</td>\n",
              "      <td>Summer</td>\n",
              "      <td>Paris</td>\n",
              "      <td>Swimming</td>\n",
              "      <td>Women's 4 x 100m Freestyle Relay</td>\n",
              "      <td>Bronze</td>\n",
              "    </tr>\n",
              "    <tr>\n",
              "      <th>248121</th>\n",
              "      <td>1945125</td>\n",
              "      <td>Yufei Zhang</td>\n",
              "      <td>F</td>\n",
              "      <td>China</td>\n",
              "      <td>CHN</td>\n",
              "      <td>2024</td>\n",
              "      <td>Summer</td>\n",
              "      <td>Paris</td>\n",
              "      <td>Swimming</td>\n",
              "      <td>Women's 4 x 100m Medley Relay</td>\n",
              "      <td>Bronze</td>\n",
              "    </tr>\n",
              "    <tr>\n",
              "      <th>248122</th>\n",
              "      <td>1945125</td>\n",
              "      <td>Yufei Zhang</td>\n",
              "      <td>F</td>\n",
              "      <td>China</td>\n",
              "      <td>CHN</td>\n",
              "      <td>2024</td>\n",
              "      <td>Summer</td>\n",
              "      <td>Paris</td>\n",
              "      <td>Swimming</td>\n",
              "      <td>Women's 50m Freestyle</td>\n",
              "      <td>Bronze</td>\n",
              "    </tr>\n",
              "    <tr>\n",
              "      <th>248123</th>\n",
              "      <td>1945125</td>\n",
              "      <td>Yufei Zhang</td>\n",
              "      <td>F</td>\n",
              "      <td>China</td>\n",
              "      <td>CHN</td>\n",
              "      <td>2024</td>\n",
              "      <td>Summer</td>\n",
              "      <td>Paris</td>\n",
              "      <td>Swimming</td>\n",
              "      <td>Mixed 4 x 100m Medley Relay</td>\n",
              "      <td>Silver</td>\n",
              "    </tr>\n",
              "  </tbody>\n",
              "</table>\n",
              "</div>"
            ],
            "text/plain": [
              "        player_id         Name Sex   Team  NOC  Year  Season   City     Sport  \\\n",
              "248118    1945125  Yufei Zhang   F  China  CHN  2024  Summer  Paris  Swimming   \n",
              "248119    1945125  Yufei Zhang   F  China  CHN  2024  Summer  Paris  Swimming   \n",
              "248120    1945125  Yufei Zhang   F  China  CHN  2024  Summer  Paris  Swimming   \n",
              "248121    1945125  Yufei Zhang   F  China  CHN  2024  Summer  Paris  Swimming   \n",
              "248122    1945125  Yufei Zhang   F  China  CHN  2024  Summer  Paris  Swimming   \n",
              "248123    1945125  Yufei Zhang   F  China  CHN  2024  Summer  Paris  Swimming   \n",
              "\n",
              "                                   Event   Medal  \n",
              "248118            Women's 100m Butterfly  Bronze  \n",
              "248119            Women's 200m Butterfly  Bronze  \n",
              "248120  Women's 4 x 100m Freestyle Relay  Bronze  \n",
              "248121     Women's 4 x 100m Medley Relay  Bronze  \n",
              "248122             Women's 50m Freestyle  Bronze  \n",
              "248123       Mixed 4 x 100m Medley Relay  Silver  "
            ]
          },
          "execution_count": 53,
          "metadata": {},
          "output_type": "execute_result"
        }
      ],
      "execution_count": 53
    },
    {
      "cell_type": "markdown",
      "source": "3. Какой спорт является самым популярным, то есть в нём участвовало больше всего спортсменов за всё время?",
      "metadata": {
        "id": "hAITny41zgjO"
      }
    },
    {
      "cell_type": "code",
      "source": "sport_popularity = df.groupby('Sport')['player_id'].nunique()\nsport_popularity.idxmax(), sport_popularity.max()",
      "metadata": {
        "id": "3aG36MWizmVa"
      },
      "outputs": [
        {
          "data": {
            "text/plain": [
              "('Athletics', 42534)"
            ]
          },
          "execution_count": 57,
          "metadata": {},
          "output_type": "execute_result"
        }
      ],
      "execution_count": 57
    },
    {
      "cell_type": "markdown",
      "source": "4. Кто был победителем медального зачёта в 2004 году?",
      "metadata": {
        "id": "8AU6Qj1nzmo9"
      }
    },
    {
      "cell_type": "code",
      "source": "team_medals = df[(df['Year'] == 2004) & df['Medal'].isin(['Gold', 'Silver', 'Bronze'])].groupby('NOC')['Medal'].count()\nteam_medals.idxmax(), team_medals.max()",
      "metadata": {
        "id": "VU9cUVwCzr4v"
      },
      "outputs": [
        {
          "data": {
            "text/plain": [
              "('USA', 263)"
            ]
          },
          "execution_count": 76,
          "metadata": {},
          "output_type": "execute_result"
        }
      ],
      "execution_count": 76
    },
    {
      "cell_type": "markdown",
      "source": "5. В каком виде спорта США завоевало наибольшее число медалей?",
      "metadata": {
        "id": "WW5dyJHlzsMS"
      }
    },
    {
      "cell_type": "code",
      "source": "usa_medals = df[(df['NOC'] == 'USA') & (df['Medal'].isin(['Gold', 'Silver', 'Bronze']))]\nusa_medals.groupby('Sport')['Medal'].count().idxmax()",
      "metadata": {
        "id": "VStk_FqV1RMW"
      },
      "outputs": [
        {
          "data": {
            "text/plain": [
              "'Swimming'"
            ]
          },
          "execution_count": 93,
          "metadata": {},
          "output_type": "execute_result"
        }
      ],
      "execution_count": 93
    },
    {
      "cell_type": "markdown",
      "source": "# С помощью графика покажите:",
      "metadata": {
        "id": "mqT-RjT5ymfJ"
      }
    },
    {
      "cell_type": "code",
      "source": "import seaborn as sns\nimport matplotlib.pyplot as plt",
      "metadata": {},
      "outputs": [],
      "execution_count": 102
    },
    {
      "cell_type": "markdown",
      "source": "6. Сколько женщин и мужчин участвовало в Летних Олимпийских играх каждый год?",
      "metadata": {
        "id": "KrawmUwtERK0"
      }
    },
    {
      "cell_type": "code",
      "source": "summer_olympics = df[df['Season'] == 'Summer']\n\ngender_participation = summer_olympics.groupby(['Year', 'Sex'])['player_id'].count().reset_index(name='Count')\n\nsns.relplot(\n    data=gender_participation,\n    x=\"Year\",\n    y=\"Count\",\n    hue=\"Sex\",\n    \n    kind=\"line\",\n    aspect=1.8,\n    alpha=0.9,\n);",
      "metadata": {},
      "outputs": [
        {
          "data": {
            "image/png": "[encoded data removed]",
            "text/plain": [
              "<Figure size 962x500 with 1 Axes>"
            ]
          },
          "metadata": {},
          "output_type": "display_data"
        }
      ],
      "execution_count": 121
    },
    {
      "cell_type": "markdown",
      "source": "7. Какие 10 стран на текущий момент имеют наибольшее количество золотых медалей?\n",
      "metadata": {
        "id": "Vd7kfuEeEZSr"
      }
    },
    {
      "cell_type": "code",
      "source": "df_gold_medals = df[df['Medal'] == 'Gold']\ndf_gold_medals['Gold_count'] = df_gold_medals.groupby('NOC')['Medal'].transform('count')\ntop_10_countries = df_gold_medals[['NOC', 'Gold_count']].drop_duplicates().sort_values(by='Gold_count', ascending=False).head(10)\n# top_10_countries",
      "metadata": {
        "trusted": true
      },
      "outputs": [],
      "execution_count": null
    },
    {
      "cell_type": "code",
      "source": "sns.relplot(\n    data=top_10_countries,\n    x=\"NOC\",\n    y=\"Gold_count\",\n    # hue=\"Sex\",\n    \n    kind=\"scatter\",\n    aspect=1.8,\n    alpha=0.9,\n);",
      "metadata": {},
      "outputs": [
        {
          "data": {
            "image/png": "[encoded data removed]",
            "text/plain": [
              "<Figure size 900x500 with 1 Axes>"
            ]
          },
          "metadata": {},
          "output_type": "display_data"
        }
      ],
      "execution_count": 219
    },
    {
      "cell_type": "markdown",
      "source": "8. Сколько золотых, серебряных и бронзовых медалей зарабатывал СССР отдельно по каждым играм?",
      "metadata": {
        "id": "SlRCGFkXFbBq"
      }
    },
    {
      "cell_type": "code",
      "source": "sovok_medals = df[(df['NOC'] == 'URS') & df['Medal'].isin(['Gold', 'Silver', 'Bronze'])]\nsovok_medals_counts = sovok_medals.groupby(['Year', 'Medal'])['player_id'].count().reset_index()\n\nsovok_medals_counts = sovok_medals_counts[['Year', 'Medal', 'player_id']].rename(columns={'player_id': 'Count'})\n\n\nsns.relplot(\n    data=sovok_medals_counts,\n    x=\"Year\",\n    y=\"Count\",\n    hue=\"Medal\",\n    \n    kind=\"scatter\",\n    aspect=2,\n    alpha=1,\n);",
      "metadata": {},
      "outputs": [
        {
          "data": {
            "image/png": "[encoded data removed]",
            "text/plain": [
              "<Figure size 1098.25x500 with 1 Axes>"
            ]
          },
          "metadata": {},
          "output_type": "display_data"
        }
      ],
      "execution_count": 202
    },
    {
      "cell_type": "markdown",
      "source": "9. Сколько медалей завоёвывали спортсмены и спортсменки (отдельно) команды Китая на каждой олимпиаде?",
      "metadata": {
        "id": "L7Nnrghyy07f"
      }
    },
    {
      "cell_type": "code",
      "source": "df_china = df[(df['NOC'] == 'CHN') & df['Medal'].isin(['Gold', 'Silver', 'Bronze'])]\n\n\ndf_china_counts = df_china.groupby(['Year', 'Sex'])['player_id'].count().reset_index()\ndf_china_counts = df_china_counts[['Year', 'Sex', 'player_id']].rename(columns={'player_id': 'Count'})\n\nsns.relplot(\n    data=df_china_counts,\n    x=\"Year\",\n    y=\"Count\",\n    hue=\"Sex\",\n    \n    kind=\"scatter\",\n    aspect=2,\n    alpha=1,\n);",
      "metadata": {
        "id": "IjMC9RULy0tE"
      },
      "outputs": [
        {
          "data": {
            "image/png": "[encoded data removed]",
            "text/plain": [
              "<Figure size 1062x500 with 1 Axes>"
            ]
          },
          "metadata": {},
          "output_type": "display_data"
        }
      ],
      "execution_count": 204
    },
    {
      "cell_type": "markdown",
      "source": "10. Какие 10 стран имеют наибольшее количество участников, не получивших никаких медалей ни на одной из Летних олимпиад?",
      "metadata": {
        "id": "YM5LH2-Xyz5A"
      }
    },
    {
      "cell_type": "code",
      "source": "no_medal_summer = df[(df['Season'] == 'Summer') & (df['Medal'] == 'No medal')]\nno_medal_counts = no_medal_summer.groupby('NOC')['player_id'].count().reset_index().rename(columns={'player_id': 'Count'})\nno_medal_counts = no_medal_counts.drop_duplicates().sort_values(by='Count', ascending=False).head(10)\n\nsns.relplot(\n    data=no_medal_counts,\n    x=\"NOC\",\n    y=\"Count\",\n    # hue=\"Sex\",\n    \n    kind=\"scatter\",\n    aspect=2,\n    alpha=1,\n);",
      "metadata": {
        "id": "QF1-5fg3y1SY"
      },
      "outputs": [
        {
          "data": {
            "image/png": "[encoded data removed]",
            "text/plain": [
              "<Figure size 1000x500 with 1 Axes>"
            ]
          },
          "metadata": {},
          "output_type": "display_data"
        }
      ],
      "execution_count": 222
    }
  ]
}